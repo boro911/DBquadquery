{
 "cells": [
  {
   "cell_type": "code",
   "execution_count": 111,
   "metadata": {},
   "outputs": [
    {
     "name": "stdout",
     "output_type": "stream",
     "text": [
      "#0 building with \"default\" instance using docker driver\n",
      "\n",
      "#1 [app2 internal] load .dockerignore\n",
      "#1 transferring context: 2B done\n",
      "#1 DONE 0.0s\n",
      "\n",
      "#2 [app2 internal] load build definition from Dockerfile\n",
      "#2 transferring dockerfile: 221B done\n",
      "#2 DONE 0.0s\n",
      "\n",
      "#3 [app1 internal] load build definition from Dockerfile\n",
      "#3 transferring dockerfile: 285B done\n",
      "#3 DONE 0.1s\n",
      "\n",
      "#4 [app1 internal] load .dockerignore\n",
      "#4 transferring context: 2B done\n",
      "#4 DONE 0.1s\n",
      "\n",
      "#5 [app2 auth] library/python:pull token for registry-1.docker.io\n",
      "#5 DONE 0.0s\n",
      "\n",
      "#6 [app1 internal] load metadata for docker.io/library/python:3.9-slim\n",
      "#6 DONE 1.4s\n",
      "\n",
      "#7 [app2 1/5] FROM docker.io/library/python:3.9-slim@sha256:96be08c44307e781fd9ce8e05b49c969b4cb902ec23594f904739c58da3a09ed\n",
      "#7 DONE 0.0s\n",
      "\n",
      "#8 [app1 internal] load build context\n",
      "#8 transferring context: 169B done\n",
      "#8 DONE 0.0s\n",
      "\n",
      "#9 [app2 internal] load build context\n",
      "#9 transferring context: 256B done\n",
      "#9 DONE 0.0s\n",
      "\n",
      "#10 [app1 3/6] COPY requirements.txt .\n",
      "#10 CACHED\n",
      "\n",
      "#11 [app1 4/6] COPY makedb.py .\n",
      "#11 CACHED\n",
      "\n",
      "#12 [app1 5/6] RUN pip install --no-cache-dir -r requirements.txt\n",
      "#12 CACHED\n",
      "\n",
      "#13 [app2 2/5] WORKDIR /app\n",
      "#13 CACHED\n",
      "\n",
      "#14 [app2 3/5] COPY requirements.txt .\n",
      "#14 CACHED\n",
      "\n",
      "#15 [app2 4/5] RUN pip install --no-cache-dir -r requirements.txt\n",
      "#15 CACHED\n",
      "\n",
      "#16 [app1 6/6] COPY . .\n",
      "#16 DONE 0.1s\n",
      "\n",
      "#17 [app2 5/5] COPY . .\n",
      "#17 DONE 0.1s\n",
      "\n",
      "#18 [app1] exporting to image\n",
      "#18 exporting layers 0.1s done\n",
      "#18 writing image sha256:0fe3e0234fa3910f965af862307c386cafbf741d621613733ccedc98615fb83a 0.0s done\n",
      "#18 naming to docker.io/library/workproject-app1\n",
      "#18 naming to docker.io/library/workproject-app1 0.0s done\n",
      "#18 DONE 0.1s\n",
      "\n",
      "#19 [app2] exporting to image\n",
      "#19 exporting layers 0.1s done\n",
      "#19 writing image sha256:9aba77c2d7143fb9b741405951778c783731cd9fef7b647520c06e404b186ee2 done\n",
      "#19 naming to docker.io/library/workproject-app2 0.0s done\n",
      "#19 DONE 0.1s\n"
     ]
    },
    {
     "name": "stderr",
     "output_type": "stream",
     "text": [
      " db Pulling \n",
      " 9b526a1fd78b Pulling fs layer \n",
      " c09eec43ce1e Pulling fs layer \n",
      " 16018ef17834 Pulling fs layer \n",
      " 9b526a1fd78b Downloading [>                                                  ]  28.75kB/2.798MB\n",
      " c09eec43ce1e Downloading [=====>                                             ]     759B/7.078kB\n",
      " c09eec43ce1e Downloading [==================================================>]  7.078kB/7.078kB\n",
      " c09eec43ce1e Verifying Checksum \n",
      " c09eec43ce1e Download complete \n",
      " 16018ef17834 Downloading [>                                                  ]   10.3kB/962kB\n",
      " 9b526a1fd78b Downloading [=========>                                         ]  507.9kB/2.798MB\n",
      " 16018ef17834 Downloading [=======================>                           ]  452.9kB/962kB\n",
      " 9b526a1fd78b Downloading [==============>                                    ]  802.8kB/2.798MB\n",
      " 16018ef17834 Downloading [========================================>          ]  788.8kB/962kB\n",
      " 16018ef17834 Download complete \n",
      " 9b526a1fd78b Downloading [========================>                          ]   1.37MB/2.798MB\n",
      " 9b526a1fd78b Downloading [====================================>              ]  2.063MB/2.798MB\n",
      " 9b526a1fd78b Verifying Checksum \n",
      " 9b526a1fd78b Download complete \n",
      " 9b526a1fd78b Extracting [>                                                  ]  32.77kB/2.798MB\n",
      " 9b526a1fd78b Extracting [==================================================>]  2.798MB/2.798MB\n",
      " 9b526a1fd78b Pull complete \n",
      " c09eec43ce1e Extracting [==================================================>]  7.078kB/7.078kB\n",
      " c09eec43ce1e Extracting [==================================================>]  7.078kB/7.078kB\n",
      " c09eec43ce1e Pull complete \n",
      " 16018ef17834 Extracting [=>                                                 ]  32.77kB/962kB\n",
      " 16018ef17834 Extracting [==================================================>]    962kB/962kB\n",
      " 16018ef17834 Extracting [==================================================>]    962kB/962kB\n",
      " 16018ef17834 Pull complete \n",
      " db Pulled \n",
      "2023/12/25 23:43:29 http2: server: error reading preface from client //./pipe/docker_engine: file has already been closed\n",
      "2023/12/25 23:43:29 http2: server: error reading preface from client //./pipe/docker_engine: file has already been closed\n",
      " Network workproject_default  Creating\n",
      " Network workproject_default  Created\n",
      " Network workproject_my-network  Creating\n",
      " Network workproject_my-network  Created\n",
      " Container workproject-db-1  Creating\n",
      " Container workproject-db-1  Created\n",
      " Container workproject-app2-1  Creating\n",
      " Container workproject-app1-1  Creating\n",
      " Container workproject-app2-1  Created\n",
      " Container workproject-app1-1  Created\n",
      " Container workproject-db-1  Starting\n",
      " Container workproject-db-1  Started\n",
      " Container workproject-app2-1  Starting\n",
      " Container workproject-app1-1  Starting\n",
      " Container workproject-app2-1  Started\n",
      " Container workproject-app1-1  Started\n"
     ]
    }
   ],
   "source": [
    "!docker-compose up -d"
   ]
  },
  {
   "cell_type": "code",
   "execution_count": 11,
   "metadata": {},
   "outputs": [
    {
     "name": "stdout",
     "output_type": "stream",
     "text": [
      "CONTAINER ID   IMAGE     COMMAND   CREATED   STATUS    PORTS     NAMES\n"
     ]
    }
   ],
   "source": [
    "!docker ps"
   ]
  },
  {
   "cell_type": "code",
   "execution_count": 112,
   "metadata": {},
   "outputs": [
    {
     "name": "stderr",
     "output_type": "stream",
     "text": [
      " Container workproject-app2-1  Stopping\n",
      " Container workproject-app1-1  Stopping\n",
      " Container workproject-app1-1  Stopped\n",
      " Container workproject-app1-1  Removing\n",
      " Container workproject-app2-1  Stopped\n",
      " Container workproject-app2-1  Removing\n",
      " Container workproject-app1-1  Removed\n",
      " Container workproject-app2-1  Removed\n",
      " Container workproject-db-1  Stopping\n",
      " Container workproject-db-1  Stopped\n",
      " Container workproject-db-1  Removing\n",
      " Container workproject-db-1  Removed\n",
      " Network workproject_my-network  Removing\n",
      " Network workproject_default  Removing\n",
      " Network workproject_my-network  Removed\n",
      " Network workproject_default  Removed\n"
     ]
    },
    {
     "ename": "",
     "evalue": "",
     "output_type": "error",
     "traceback": [
      "\u001b[1;31mThe Kernel crashed while executing code in the the current cell or a previous cell. Please review the code in the cell(s) to identify a possible cause of the failure. Click <a href='https://aka.ms/vscodeJupyterKernelCrash'>here</a> for more info. View Jupyter <a href='command:jupyter.viewOutput'>log</a> for further details."
     ]
    }
   ],
   "source": [
    "!docker-compose down"
   ]
  },
  {
   "cell_type": "code",
   "execution_count": 41,
   "metadata": {},
   "outputs": [
    {
     "name": "stdout",
     "output_type": "stream",
     "text": [
      "#0 building with \"default\" instance using docker driver\n",
      "\n",
      "#1 [db internal] load build definition from dockerfile\n",
      "#1 transferring dockerfile: 477B done\n",
      "#1 DONE 0.0s\n",
      "\n",
      "#2 [db internal] load .dockerignore\n",
      "#2 transferring context: 2B done\n",
      "#2 DONE 0.0s\n",
      "\n",
      "#3 [db internal] load metadata for docker.io/library/python:3.9-slim\n",
      "#3 DONE 1.6s\n",
      "\n",
      "#4 [db 1/7] FROM docker.io/library/python:3.9-slim@sha256:96be08c44307e781fd9ce8e05b49c969b4cb902ec23594f904739c58da3a09ed\n",
      "#4 DONE 0.0s\n",
      "\n",
      "#5 [db internal] load build context\n",
      "#5 transferring context: 1.53kB done\n",
      "#5 DONE 0.0s\n",
      "\n",
      "#6 [db 3/7] RUN pip install --no-cache-dir -r requirements.txt\n",
      "#6 CACHED\n",
      "\n",
      "#7 [db 4/7] RUN apt-get update && apt-get install -y sqlite3\n",
      "#7 CACHED\n",
      "\n",
      "#8 [db 5/7] RUN pip install Faker\n",
      "#8 CACHED\n",
      "\n",
      "#9 [db 2/7] COPY requirements.txt .\n",
      "#9 CACHED\n",
      "\n",
      "#10 [db 6/7] WORKDIR /app\n",
      "#10 CACHED\n",
      "\n",
      "#11 [db 7/7] COPY . .\n",
      "#11 DONE 0.1s\n",
      "\n",
      "#12 [db] exporting to image\n",
      "#12 exporting layers 0.1s done\n",
      "#12 writing image sha256:a27662611372ab3e488e62d9c268a05e13b619c70a023c9de7f971092b405b63 done\n",
      "#12 naming to docker.io/library/workproject-db done\n",
      "#12 DONE 0.1s\n"
     ]
    }
   ],
   "source": [
    "!docker-compose build"
   ]
  }
 ],
 "metadata": {
  "kernelspec": {
   "display_name": "Python 3",
   "language": "python",
   "name": "python3"
  },
  "language_info": {
   "codemirror_mode": {
    "name": "ipython",
    "version": 3
   },
   "file_extension": ".py",
   "mimetype": "text/x-python",
   "name": "python",
   "nbconvert_exporter": "python",
   "pygments_lexer": "ipython3",
   "version": "3.10.11"
  }
 },
 "nbformat": 4,
 "nbformat_minor": 2
}
